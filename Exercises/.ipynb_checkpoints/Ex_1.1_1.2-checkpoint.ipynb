{
 "cells": [
  {
   "cell_type": "markdown",
   "id": "f8ea37a0",
   "metadata": {},
   "source": [
    "- Exercise 1.1\n",
    "\n",
    "Load the image dog.jpg and compute the full SVD.\n",
    "\n",
    "Choose a rank r < m and confirm that the matrix U*U is the r by r identity matrix.\n",
    "\n",
    "Now confirm that UU* is not the identity matrix.\n",
    "\n",
    "Compute the norm of the error between UU* and the n by n identity matrix as the rank r varies from 1 to n and plot the error."
   ]
  },
  {
   "cell_type": "code",
   "execution_count": 1,
   "id": "f2078999",
   "metadata": {},
   "outputs": [],
   "source": [
    "from matplotlib.image import imread\n",
    "import matplotlib.pyplot as plt\n",
    "import numpy as np\n",
    "import os # operating system"
   ]
  },
  {
   "cell_type": "code",
   "execution_count": 2,
   "id": "11fda852",
   "metadata": {},
   "outputs": [
    {
     "name": "stdout",
     "output_type": "stream",
     "text": [
      "(2000, 1500)\n"
     ]
    }
   ],
   "source": [
    "# Load the image dog.jpg\n",
    "A = imread(os.path.join('..','Data','dog.jpg'))\n",
    "\n",
    "X = np.mean(A, 2)\n",
    "\n",
    "print(X.shape)   # n = 2000, m = 1500"
   ]
  },
  {
   "cell_type": "code",
   "execution_count": 10,
   "id": "d27c8bc6",
   "metadata": {},
   "outputs": [
    {
     "data": {
      "text/plain": [
       "(2000, 2000)"
      ]
     },
     "execution_count": 10,
     "metadata": {},
     "output_type": "execute_result"
    }
   ],
   "source": [
    "# compute the full SVD\n",
    "U, S, VT = np.linalg.svd(X, full_matrices=True)     \n",
    "\n",
    "U.shape"
   ]
  },
  {
   "cell_type": "code",
   "execution_count": 4,
   "id": "becca01e",
   "metadata": {},
   "outputs": [
    {
     "name": "stdout",
     "output_type": "stream",
     "text": [
      "(3, 3)\n"
     ]
    },
    {
     "data": {
      "text/plain": [
       "array([[ 1.00000000e+00,  2.43294968e-16,  1.49619900e-17],\n",
       "       [ 2.43294968e-16,  1.00000000e+00, -5.11038694e-16],\n",
       "       [ 1.49619900e-17, -5.11038694e-16,  1.00000000e+00]])"
      ]
     },
     "execution_count": 4,
     "metadata": {},
     "output_type": "execute_result"
    }
   ],
   "source": [
    "# Choose a rank r < m \n",
    "r = 3\n",
    "\n",
    "# confirm that the matrix U*U is the r by r identity matrix\n",
    "UstarU = U[:,:r].T @ U[:,:r]\n",
    "\n",
    "print(UstarU.shape)\n",
    "UstarU"
   ]
  },
  {
   "cell_type": "code",
   "execution_count": 5,
   "id": "ff5dbf55",
   "metadata": {},
   "outputs": [
    {
     "name": "stdout",
     "output_type": "stream",
     "text": [
      "(2000, 2000)\n"
     ]
    },
    {
     "data": {
      "text/plain": [
       "array([[0.00068618, 0.00068493, 0.00068658, 0.0006853 ],\n",
       "       [0.00068493, 0.0006837 , 0.00068533, 0.00068404],\n",
       "       [0.00068658, 0.00068533, 0.00068699, 0.0006857 ],\n",
       "       [0.0006853 , 0.00068404, 0.0006857 , 0.00068445]])"
      ]
     },
     "execution_count": 5,
     "metadata": {},
     "output_type": "execute_result"
    }
   ],
   "source": [
    "# confirm that UU* is not the identity matrix\n",
    "UUstar = U[:,:r] @ U[:,:r].T\n",
    "\n",
    "print(UUstar.shape)\n",
    "UUstar[1:5,1:5]"
   ]
  },
  {
   "cell_type": "code",
   "execution_count": 6,
   "id": "673afb78",
   "metadata": {},
   "outputs": [],
   "source": [
    "n = UUstar.shape[1]\n",
    "I_n = np.identity(n)"
   ]
  },
  {
   "cell_type": "code",
   "execution_count": 7,
   "id": "8e1bc79f",
   "metadata": {},
   "outputs": [],
   "source": [
    "r = np.arange(1,n+1)\n",
    "norm_vec = np.zeros_like(r)\n",
    "\n",
    "for i in r:\n",
    "    UUstar = U[:,:i] @ U[:,:i].T\n",
    "    norm_vec[i-1] = np.linalg.norm( np.subtract(UUstar, I_n) )   # Frobenius norm\n"
   ]
  },
  {
   "cell_type": "code",
   "execution_count": 8,
   "id": "a3063551",
   "metadata": {},
   "outputs": [
    {
     "data": {
      "image/png": "[encoded data removed]",
      "text/plain": [
       "<Figure size 432x288 with 1 Axes>"
      ]
     },
     "metadata": {
      "needs_background": "light"
     },
     "output_type": "display_data"
    }
   ],
   "source": [
    "plt.plot(r, norm_vec)\n",
    "plt.show()"
   ]
  },
  {
   "cell_type": "code",
   "execution_count": null,
   "id": "e92b529c",
   "metadata": {},
   "outputs": [],
   "source": []
  },
  {
   "cell_type": "markdown",
   "id": "ffc6f340",
   "metadata": {},
   "source": [
    "- Exercise 1.2\n",
    "\n",
    "Load the image dog.jpg and compute the economy SVD.\n",
    "\n",
    "Compute the relative reconstruction error of the truncated SVD in the Frobenius norm as a function of the rank r.\n",
    "\n",
    "Square this error to compute the fraction of missing variance as a function of r.\n",
    "\n",
    "You may also decide to plot 1 minus the error or missing variance to visualize the amount of norm or variance captured at a given rank r.\n",
    "\n",
    "Plot these quantities along with the cumulative sum of singular values as a function of r.\n",
    "\n",
    "Find the rank r where the reconstruction captures 99% of the total variance.\n",
    "\n",
    "Compare this with the rank r where the reconstruction captures 99% in the Frobenius norm and with the rank r that captures 99% of the cumulative sum of singular values.\n"
   ]
  },
  {
   "cell_type": "code",
   "execution_count": 46,
   "id": "e279bb19",
   "metadata": {},
   "outputs": [
    {
     "data": {
      "text/plain": [
       "(2000, 1500)"
      ]
     },
     "execution_count": 46,
     "metadata": {},
     "output_type": "execute_result"
    }
   ],
   "source": [
    "# compute the economy SVD\n",
    "U, S, VT = np.linalg.svd(X, full_matrices=False)\n",
    "\n",
    "U.shape"
   ]
  },
  {
   "cell_type": "code",
   "execution_count": 47,
   "id": "77c76302",
   "metadata": {},
   "outputs": [],
   "source": [
    "S = np.diag(S)\n",
    "\n",
    "r = np.arange(1, U.shape[1]+1)\n",
    "relative_err = np.zeros_like(r)\n",
    "\n",
    "# Compute the relative reconstruction error of the truncated SVD in the Frobenius norm \n",
    "# as a function of the rank r\n",
    "for i in r:\n",
    "    Xi = U[:,:i] @ S[:i,:i] @ VT[:i,:] \n",
    "    relative_err[i-1] = np.linalg.norm(np.subtract(Xi, X))\n",
    "    \n",
    "relative_err = relative_err/np.linalg.norm(X)"
   ]
  },
  {
   "cell_type": "code",
   "execution_count": 48,
   "id": "9ca5d37e",
   "metadata": {},
   "outputs": [
    {
     "name": "stdout",
     "output_type": "stream",
     "text": [
      "[3.15752700e-01 2.47935418e-01 1.95264803e-01 ... 1.91286053e-05\n",
      " 1.27524035e-05 0.00000000e+00]\n"
     ]
    }
   ],
   "source": [
    "print(relative_err)"
   ]
  },
  {
   "cell_type": "code",
   "execution_count": 49,
   "id": "2c60f8df",
   "metadata": {},
   "outputs": [
    {
     "data": {
      "image/png": "[encoded data removed]",
      "text/plain": [
       "<Figure size 432x288 with 3 Axes>"
      ]
     },
     "metadata": {
      "needs_background": "light"
     },
     "output_type": "display_data"
    }
   ],
   "source": [
    "fig, axs = plt.subplots(1,3)\n",
    "axs[0].plot(r, relative_err**2)                           # the fraction of missing variance as a function of r\n",
    "axs[1].plot(r, 1-relative_err**2)                         # the amount of norm or variance captured at a given rank r\n",
    "axs[2].plot(r, np.cumsum(np.diag(S))/np.sum(np.diag(S)))  # the cumulative sum of singular values as a function of r\n",
    "\n",
    "fig.tight_layout()"
   ]
  },
  {
   "cell_type": "code",
   "execution_count": 52,
   "id": "501740b7",
   "metadata": {},
   "outputs": [
    {
     "data": {
      "text/plain": [
       "15"
      ]
     },
     "execution_count": 52,
     "metadata": {},
     "output_type": "execute_result"
    }
   ],
   "source": [
    "# Find the rank r where the reconstruction captures 99% of the total variance\n",
    "temp = np.absolute((1-relative_err**2)-0.99)\n",
    "index_r = temp.argmin()\n",
    "index_r + 1"
   ]
  },
  {
   "cell_type": "code",
   "execution_count": 55,
   "id": "2041655e",
   "metadata": {},
   "outputs": [
    {
     "data": {
      "text/plain": [
       "436"
      ]
     },
     "execution_count": 55,
     "metadata": {},
     "output_type": "execute_result"
    }
   ],
   "source": [
    "# Find the rank r where the reconstruction captures 99% in the Frobenius norm\n",
    "temp = np.absolute((1-relative_err)-0.99)\n",
    "index_r = temp.argmin()\n",
    "index_r + 1"
   ]
  },
  {
   "cell_type": "code",
   "execution_count": 53,
   "id": "975cac6b",
   "metadata": {},
   "outputs": [
    {
     "data": {
      "text/plain": [
       "1006"
      ]
     },
     "execution_count": 53,
     "metadata": {},
     "output_type": "execute_result"
    }
   ],
   "source": [
    "# Find the rank r that captures 99% of the cumulative sum of singular values\n",
    "temp = np.absolute((np.cumsum(np.diag(S))/np.sum(np.diag(S)))-0.99)\n",
    "index_r = temp.argmin()\n",
    "index_r + 1"
   ]
  },
  {
   "cell_type": "code",
   "execution_count": null,
   "id": "e08bba48",
   "metadata": {},
   "outputs": [],
   "source": []
  }
 ],
 "metadata": {
  "kernelspec": {
   "display_name": "m6397",
   "language": "python",
   "name": "m6397"
  },
  "language_info": {
   "codemirror_mode": {
    "name": "ipython",
    "version": 3
   },
   "file_extension": ".py",
   "mimetype": "text/x-python",
   "name": "python",
   "nbconvert_exporter": "python",
   "pygments_lexer": "ipython3",
   "version": "3.10.4"
  }
 },
 "nbformat": 4,
 "nbformat_minor": 5
}
