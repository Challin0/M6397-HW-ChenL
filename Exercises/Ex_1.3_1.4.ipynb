{
 "cells": [
  {
   "cell_type": "markdown",
   "id": "5ff5b597",
   "metadata": {},
   "source": [
    "- Exercise 1.3\n",
    "\n",
    "Load the Yale B image database and compute the economy SVD using a standard svd command.\n",
    "\n",
    "Now compute the SVD with the method of snapshots.\n",
    "\n",
    "Compare the singular value spectra on a log plot.\n",
    "\n",
    "Compare the first 10 left singular vectors using each method (remember to reshape them into the shape of a face).\n",
    "\n",
    "Now compare a few singular vectors farther down the spectrum.\n",
    "\n",
    "Explain your findings."
   ]
  },
  {
   "cell_type": "code",
   "execution_count": 1,
   "id": "9c387f09",
   "metadata": {},
   "outputs": [],
   "source": [
    "import scipy.io  # io: imput and output\n",
    "import numpy as np\n",
    "import os"
   ]
  },
  {
   "cell_type": "code",
   "execution_count": 2,
   "id": "99827c92",
   "metadata": {},
   "outputs": [],
   "source": [
    "# Load the Yale B image database\n",
    "mat_contents = scipy.io.loadmat(os.path.join('..','Data','allFaces.mat'))"
   ]
  },
  {
   "cell_type": "code",
   "execution_count": 3,
   "id": "0da02d7a",
   "metadata": {},
   "outputs": [],
   "source": [
    "# Compute the economy SVD using a standard svd command\n",
    "faces = mat_contents['faces']   # (32256, 2410)\n",
    "U, S, VT = np.linalg.svd(faces, full_matrices=False)"
   ]
  },
  {
   "cell_type": "code",
   "execution_count": 15,
   "id": "55d038e3",
   "metadata": {},
   "outputs": [
    {
     "data": {
      "text/plain": [
       "array([[80, 94, 59, ...,  3,  4,  4],\n",
       "       [81, 87, 67, ...,  4,  4,  3],\n",
       "       [80, 88, 66, ...,  2,  4,  4],\n",
       "       ...,\n",
       "       [14,  7,  6, ...,  0,  1,  1],\n",
       "       [14,  9,  6, ...,  1,  1,  0],\n",
       "       [11,  8,  7, ...,  1,  1,  2]], dtype=uint8)"
      ]
     },
     "execution_count": 15,
     "metadata": {},
     "output_type": "execute_result"
    }
   ],
   "source": [
    "faces"
   ]
  },
  {
   "cell_type": "code",
   "execution_count": 4,
   "id": "c87f7aab",
   "metadata": {},
   "outputs": [
    {
     "data": {
      "text/plain": [
       "(2410, 2410)"
      ]
     },
     "execution_count": 4,
     "metadata": {},
     "output_type": "execute_result"
    }
   ],
   "source": [
    "# Compute the SVD with the method of snapshots\n",
    "XstarX = faces.T @ faces\n",
    "XstarX.shape"
   ]
  },
  {
   "cell_type": "code",
   "execution_count": 16,
   "id": "6a238fe1",
   "metadata": {},
   "outputs": [
    {
     "data": {
      "text/plain": [
       "array([[171,  74, 113, ..., 234,  53, 158],\n",
       "       [ 74, 149, 188, ..., 138,  89, 179],\n",
       "       [113, 188, 251, ..., 206, 219, 213],\n",
       "       ...,\n",
       "       [234, 138, 206, ..., 134, 108, 156],\n",
       "       [ 53,  89, 219, ..., 108, 147, 220],\n",
       "       [158, 179, 213, ..., 156, 220, 145]], dtype=uint8)"
      ]
     },
     "execution_count": 16,
     "metadata": {},
     "output_type": "execute_result"
    }
   ],
   "source": [
    "XstarX"
   ]
  },
  {
   "cell_type": "code",
   "execution_count": 5,
   "id": "a913e410",
   "metadata": {},
   "outputs": [],
   "source": [
    "S2_ss, V_ss = np.linalg.eig(XstarX)"
   ]
  },
  {
   "cell_type": "code",
   "execution_count": 6,
   "id": "b728b0dc",
   "metadata": {},
   "outputs": [
    {
     "name": "stdout",
     "output_type": "stream",
     "text": [
      "(2410,)\n",
      "(2410, 2410)\n",
      "[3.07259945e+05 7.21580059e+03 7.20921481e+03 ... 6.95315165e+01\n",
      " 2.17062577e+01 8.00042136e+01]\n"
     ]
    }
   ],
   "source": [
    "print(S2_ss.shape)\n",
    "print(V_ss.shape)\n",
    "print(S2_ss)"
   ]
  },
  {
   "cell_type": "code",
   "execution_count": 31,
   "id": "ccf2096c",
   "metadata": {},
   "outputs": [
    {
     "name": "stdout",
     "output_type": "stream",
     "text": [
      "[ -7199.07817817  -7172.21820857  -7127.33066405 ...   7209.21481253\n",
      "   7215.80058687 307259.94513471]\n"
     ]
    }
   ],
   "source": [
    "print(np.sort(S2_ss))"
   ]
  },
  {
   "cell_type": "code",
   "execution_count": 11,
   "id": "568c044b",
   "metadata": {},
   "outputs": [],
   "source": [
    "import matplotlib.pyplot as plt"
   ]
  },
  {
   "cell_type": "code",
   "execution_count": 18,
   "id": "530b8ded",
   "metadata": {},
   "outputs": [
    {
     "data": {
      "image/png": "[encoded data removed]",
      "text/plain": [
       "<Figure size 432x288 with 2 Axes>"
      ]
     },
     "metadata": {
      "needs_background": "light"
     },
     "output_type": "display_data"
    }
   ],
   "source": [
    "fig, axs = plt.subplots(1,2)\n",
    "axs[0].semilogy(S)\n",
    "axs[1].plot(S2_ss)\n",
    "\n",
    "fig.tight_layout()"
   ]
  },
  {
   "cell_type": "code",
   "execution_count": null,
   "id": "e4327f1c",
   "metadata": {},
   "outputs": [],
   "source": [
    "# U_ss = faces @ V_ss @ np.diag(1/np.sqrt(S2_ss))"
   ]
  },
  {
   "cell_type": "code",
   "execution_count": null,
   "id": "49968210",
   "metadata": {},
   "outputs": [],
   "source": []
  },
  {
   "cell_type": "code",
   "execution_count": null,
   "id": "e8a53f47",
   "metadata": {},
   "outputs": [],
   "source": []
  },
  {
   "cell_type": "markdown",
   "id": "e6de019f",
   "metadata": {},
   "source": [
    "- Exercise 1.4\n",
    "\n",
    "Generate a random 100 by 100 matrix, i.e., a matrix whose entries are sampled from a normal distribution.\n",
    "\n",
    "Compute the SVD of this matrix and plot the singular values.\n",
    "\n",
    "Repeat this 100 times and plot the distribution of singular values in a box-and-whisker plot.\n",
    "\n",
    "Plot the mean and median singular values as a function of r.\n",
    "\n",
    "Now repeat this for different matrix sizes (e.g., 50 by 50, 200 by 200, 500 by 500, 1000 by 1000, etc.)."
   ]
  },
  {
   "cell_type": "code",
   "execution_count": null,
   "id": "df870cbc",
   "metadata": {},
   "outputs": [],
   "source": [
    "# Generate a random 100 by 100 matrix\n",
    "# the entries are sampled from N(mu=0, sigma=1)\n",
    "np.random.seed(6397)\n",
    "n = 100\n",
    "A = np.random.normal(0,1,(n,n))"
   ]
  },
  {
   "cell_type": "code",
   "execution_count": null,
   "id": "36a4aa1d",
   "metadata": {},
   "outputs": [],
   "source": [
    "# Compute the SVD of this matrix\n",
    "U, S, VT = np.linalg.svd(A, full_matrices=True)"
   ]
  },
  {
   "cell_type": "code",
   "execution_count": null,
   "id": "91c2c347",
   "metadata": {},
   "outputs": [],
   "source": [
    "# Plot the singular values\n",
    "plt.plot(S)\n",
    "plt.show()"
   ]
  },
  {
   "cell_type": "code",
   "execution_count": null,
   "id": "faf8394f",
   "metadata": {},
   "outputs": [],
   "source": [
    "# Repeat this 100 times\n",
    "k = 100\n",
    "S_mat = np.zeros((k,n))\n",
    "for i in range(k):\n",
    "    Ai = np.random.normal(0,1,(n,n))\n",
    "    U, S, VT = np.linalg.svd(Ai, full_matrices=True)\n",
    "    S_mat[i,:] = S"
   ]
  },
  {
   "cell_type": "code",
   "execution_count": null,
   "id": "c6b1b849",
   "metadata": {},
   "outputs": [],
   "source": [
    "# Plot the distribution of singular values in a box-and-whisker plot\n",
    "plt.boxplot(S_mat.flatten())\n",
    "plt.show()"
   ]
  },
  {
   "cell_type": "code",
   "execution_count": null,
   "id": "d9fb077c",
   "metadata": {},
   "outputs": [],
   "source": [
    "# Repeat this for different matrix sizes\n",
    "# n = 50\n",
    "n = 50\n",
    "S_mat = np.zeros((k,n))\n",
    "for i in range(k):\n",
    "    Ai = np.random.normal(0,1,(n,n))\n",
    "    U, S, VT = np.linalg.svd(Ai, full_matrices=True)\n",
    "    S_mat[i,:] = S\n",
    "\n",
    "plt.boxplot(S_mat.flatten())\n",
    "plt.show()"
   ]
  },
  {
   "cell_type": "code",
   "execution_count": null,
   "id": "863f3803",
   "metadata": {},
   "outputs": [],
   "source": [
    "# n = 1000\n",
    "n = 1000\n",
    "S_mat = np.zeros((k,n))\n",
    "for i in range(k):\n",
    "    Ai = np.random.normal(0,1,(n,n))\n",
    "    U, S, VT = np.linalg.svd(Ai, full_matrices=True)\n",
    "    S_mat[i,:] = S\n",
    "\n",
    "plt.boxplot(S_mat.flatten())\n",
    "plt.show()"
   ]
  },
  {
   "cell_type": "code",
   "execution_count": null,
   "id": "0a13d8d9",
   "metadata": {},
   "outputs": [],
   "source": []
  }
 ],
 "metadata": {
  "kernelspec": {
   "display_name": "m6397",
   "language": "python",
   "name": "m6397"
  },
  "language_info": {
   "codemirror_mode": {
    "name": "ipython",
    "version": 3
   },
   "file_extension": ".py",
   "mimetype": "text/x-python",
   "name": "python",
   "nbconvert_exporter": "python",
   "pygments_lexer": "ipython3",
   "version": "3.10.4"
  }
 },
 "nbformat": 4,
 "nbformat_minor": 5
}
