{
 "cells": [
  {
   "cell_type": "markdown",
   "id": "0980d6bf",
   "metadata": {},
   "source": [
    "### Exercise 4.3\n",
    "\n",
    "For the temperature data of the previous example, consider a polynomial fit of the form \n",
    "$$f(x) = \\sum_{k=0}^{10} \\alpha_k x^k, $$\n",
    "\n",
    "where the loadings $\\alpha_k$ are to be determined by four regression techniques: 1) least-squares, 2) LASSO, 3) ridge, and 4) elastic net.\n",
    "\n",
    "- Compare the models for each against each other.\n",
    "\n",
    "- Randomly pick any time point and corrupt the temperature measurement at that location. For instance, the temperature reading at that location could be zero. Investigate the resulting model and $E_2$ error for the four regression techniques considered.\n",
    "\n",
    "- Identify the models that are robust to such an outlier and those that are not. \n",
    "\n",
    "- Explicitly calculate the variance of the loading coefficients $\\alpha_k$ for each method for a number of random trials with one or more corrupt data points. \n",
    "\n"
   ]
  },
  {
   "cell_type": "code",
   "execution_count": 1,
   "id": "3ac0cc82",
   "metadata": {},
   "outputs": [],
   "source": [
    "import numpy as np"
   ]
  },
  {
   "cell_type": "code",
   "execution_count": 2,
   "id": "f17d3fae",
   "metadata": {},
   "outputs": [],
   "source": [
    "n = 24\n",
    "p = 10+1\n",
    "\n",
    "x = np.arange(1,n+1, dtype=np.int64)\n",
    "\n",
    "y = np.array([75.0, 77.0, 76.0, 73.0, 69.0, 68.0, \n",
    "              63.0, 59.0, 57.0, 55.0, 54.0, 52.0, \n",
    "              50.0, 50.0, 49.0, 49.0, 49.0, 50.0, \n",
    "              54.0, 56.0, 59.0, 63.0, 67.0, 72.0 ])"
   ]
  },
  {
   "cell_type": "code",
   "execution_count": 3,
   "id": "06add220",
   "metadata": {},
   "outputs": [
    {
     "name": "stdout",
     "output_type": "stream",
     "text": [
      "[ 1  2  3  4  5  6  7  8  9 10 11 12 13 14 15 16 17 18 19 20 21 22 23 24]\n",
      "[75. 77. 76. 73. 69. 68. 63. 59. 57. 55. 54. 52. 50. 50. 49. 49. 49. 50.\n",
      " 54. 56. 59. 63. 67. 72.]\n"
     ]
    }
   ],
   "source": [
    "print(x)\n",
    "print(y)"
   ]
  },
  {
   "cell_type": "code",
   "execution_count": 4,
   "id": "f5fde3f1",
   "metadata": {},
   "outputs": [],
   "source": [
    "import matplotlib.pyplot as plt"
   ]
  },
  {
   "cell_type": "code",
   "execution_count": 5,
   "id": "e989f497",
   "metadata": {},
   "outputs": [
    {
     "data": {
      "image/png": "[encoded data removed]",
      "text/plain": [
       "<Figure size 432x288 with 1 Axes>"
      ]
     },
     "metadata": {
      "needs_background": "light"
     },
     "output_type": "display_data"
    }
   ],
   "source": [
    "plt.scatter(x,y)\n",
    "plt.show()"
   ]
  },
  {
   "cell_type": "code",
   "execution_count": 6,
   "id": "55679994",
   "metadata": {},
   "outputs": [],
   "source": [
    "X = np.empty(shape=(n, p), dtype=np.float64)"
   ]
  },
  {
   "cell_type": "code",
   "execution_count": 7,
   "id": "83606320",
   "metadata": {},
   "outputs": [],
   "source": [
    "for i in range(p):\n",
    "    X[:,i] = np.power(x,i) "
   ]
  },
  {
   "cell_type": "code",
   "execution_count": 8,
   "id": "ff7528cd",
   "metadata": {},
   "outputs": [],
   "source": [
    "X_standardize = X\n",
    "\n",
    "X_standardize[:,1:p] = (X_standardize[:,1:p] - np.mean(X_standardize[:,1:p], axis=0))/np.std(X_standardize[:,1:p], axis=0)"
   ]
  },
  {
   "cell_type": "code",
   "execution_count": null,
   "id": "962b5781",
   "metadata": {},
   "outputs": [],
   "source": []
  },
  {
   "cell_type": "markdown",
   "id": "0583931d-5d51-4021-b34e-057e5c0aebe0",
   "metadata": {},
   "source": [
    "- Four regression techniques: 1) least-squares, 2) LASSO, 3) ridge, and 4) elastic net."
   ]
  },
  {
   "cell_type": "code",
   "execution_count": 9,
   "id": "6e97f418",
   "metadata": {},
   "outputs": [],
   "source": [
    "from sklearn import linear_model"
   ]
  },
  {
   "cell_type": "code",
   "execution_count": 10,
   "id": "c9723a1f",
   "metadata": {},
   "outputs": [],
   "source": [
    "## 1) Least-square fit\n",
    "coef_ls = np.linalg.pinv( X_standardize ) @ y \n",
    "yhat_ls = X_standardize @ coef_ls"
   ]
  },
  {
   "cell_type": "code",
   "execution_count": 11,
   "id": "1ec4daa3",
   "metadata": {},
   "outputs": [
    {
     "data": {
      "text/plain": [
       "array([ 6.02500000e+01,  2.07400891e+02, -3.38277585e+03,  2.63563746e+04,\n",
       "       -1.25071698e+05,  3.75672713e+05, -7.24335992e+05,  8.91976969e+05,\n",
       "       -6.77287837e+05,  2.88701681e+05, -5.28387298e+04])"
      ]
     },
     "execution_count": 11,
     "metadata": {},
     "output_type": "execute_result"
    }
   ],
   "source": [
    "coef_ls"
   ]
  },
  {
   "cell_type": "code",
   "execution_count": null,
   "id": "f6f7d66d",
   "metadata": {},
   "outputs": [],
   "source": [
    "# help(linear_model.Lasso)"
   ]
  },
  {
   "cell_type": "code",
   "execution_count": 12,
   "id": "64a2803d",
   "metadata": {},
   "outputs": [],
   "source": [
    "## 2) LASSO\n",
    "lasso_reg = linear_model.Lasso(alpha=1, random_state=0, max_iter=10**8, tol=10**(-6))\n",
    "lasso_reg.fit(X_standardize[:,1:p], y)\n",
    "\n",
    "coef_lasso = lasso_reg.coef_\n",
    "inte_lasso = lasso_reg.intercept_\n"
   ]
  },
  {
   "cell_type": "code",
   "execution_count": 13,
   "id": "a1415a5e-7a07-4cf7-899a-dd7d8a4804b4",
   "metadata": {},
   "outputs": [
    {
     "name": "stdout",
     "output_type": "stream",
     "text": [
      "[-8.95560611 -0.          0.          0.          0.          0.\n",
      "  1.36643283  6.21596681  0.          0.        ]\n",
      "[60.25       -8.95560611 -0.          0.          0.          0.\n",
      "  0.          1.36643283  6.21596681  0.          0.        ]\n"
     ]
    }
   ],
   "source": [
    "print(coef_lasso)\n",
    "print(np.insert(coef_lasso, 0, inte_lasso))"
   ]
  },
  {
   "cell_type": "code",
   "execution_count": 14,
   "id": "7386105c",
   "metadata": {},
   "outputs": [],
   "source": [
    "coef_lasso = np.insert(coef_lasso, 0, inte_lasso)\n",
    "yhat_lasso = X_standardize @ coef_lasso"
   ]
  },
  {
   "cell_type": "code",
   "execution_count": 15,
   "id": "a3513d87",
   "metadata": {},
   "outputs": [],
   "source": [
    "# help(linear_model.Ridge)"
   ]
  },
  {
   "cell_type": "code",
   "execution_count": 16,
   "id": "1c03e372",
   "metadata": {},
   "outputs": [],
   "source": [
    "## 3) Ridge\n",
    "ridge_reg = linear_model.Ridge(alpha=1, random_state=0, max_iter=10**8, tol=10**(-6))\n",
    "ridge_reg.fit(X_standardize[:,1:p], y)\n",
    "\n",
    "coef_ridge = ridge_reg.coef_\n",
    "inte_ridge = ridge_reg.intercept_"
   ]
  },
  {
   "cell_type": "code",
   "execution_count": 17,
   "id": "ed332476",
   "metadata": {},
   "outputs": [
    {
     "name": "stdout",
     "output_type": "stream",
     "text": [
      "[-12.09259251  -3.52172339   1.19072798   3.13936289   3.53438457\n",
      "   3.11790544   2.30236153   1.31296331   0.27235502  -0.75333524]\n",
      "[ 60.25       -12.09259251  -3.52172339   1.19072798   3.13936289\n",
      "   3.53438457   3.11790544   2.30236153   1.31296331   0.27235502\n",
      "  -0.75333524]\n"
     ]
    }
   ],
   "source": [
    "print(coef_ridge)\n",
    "print(np.insert(coef_ridge, 0, inte_ridge))"
   ]
  },
  {
   "cell_type": "code",
   "execution_count": 18,
   "id": "8ee8bc2e",
   "metadata": {},
   "outputs": [],
   "source": [
    "coef_ridge = np.insert(coef_ridge, 0, inte_ridge)\n",
    "yhat_ridge = X_standardize @ coef_ridge"
   ]
  },
  {
   "cell_type": "code",
   "execution_count": null,
   "id": "2323997e",
   "metadata": {},
   "outputs": [],
   "source": [
    "# help(linear_model.ElasticNet)"
   ]
  },
  {
   "cell_type": "code",
   "execution_count": 19,
   "id": "dd845657",
   "metadata": {},
   "outputs": [],
   "source": [
    "## 4) Elastic net\n",
    "elasNet_reg = linear_model.ElasticNet(alpha=1, random_state=0, max_iter=10**8, tol=10**(-6))\n",
    "elasNet_reg.fit(X_standardize[:,1:p], y)\n",
    "\n",
    "coef_elasNet = elasNet_reg.coef_\n",
    "inte_elasNet = elasNet_reg.intercept_"
   ]
  },
  {
   "cell_type": "code",
   "execution_count": null,
   "id": "40470618",
   "metadata": {},
   "outputs": [],
   "source": [
    "print(coef_elasNet)\n",
    "print(np.insert(coef_elasNet, 0, inte_elasNet))"
   ]
  },
  {
   "cell_type": "code",
   "execution_count": 20,
   "id": "8aac15ed",
   "metadata": {},
   "outputs": [],
   "source": [
    "coef_elasNet = np.insert(coef_elasNet, 0, inte_elasNet)\n",
    "yhat_elasNet = X_standardize @ coef_elasNet"
   ]
  },
  {
   "cell_type": "markdown",
   "id": "3eb90958-3423-4b8c-a381-f09f37579b1a",
   "metadata": {},
   "source": [
    "\n",
    "- Compare the models for each against each other"
   ]
  },
  {
   "cell_type": "code",
   "execution_count": 21,
   "id": "856444da-2dc9-4f2d-b185-a9298ecd7206",
   "metadata": {},
   "outputs": [
    {
     "data": {
      "image/png": "[encoded data removed]",
      "text/plain": [
       "<Figure size 432x288 with 4 Axes>"
      ]
     },
     "metadata": {
      "needs_background": "light"
     },
     "output_type": "display_data"
    }
   ],
   "source": [
    "fig,axs = plt.subplots(2,2)\n",
    "axs = axs.reshape(-1)\n",
    "\n",
    "axs[0].bar(range(11), coef_ls)\n",
    "axs[0].set_title(\"Least square\")\n",
    "\n",
    "axs[1].bar(range(11), coef_lasso)\n",
    "axs[1].set_title(\"LASSO\")\n",
    "\n",
    "axs[2].bar(range(11), coef_ridge)\n",
    "axs[2].set_title(\"Ridge\")\n",
    "\n",
    "axs[3].bar(range(11), coef_elasNet)\n",
    "axs[3].set_title(\"Elastic net\")\n",
    "\n",
    "fig.tight_layout()"
   ]
  },
  {
   "cell_type": "code",
   "execution_count": 22,
   "id": "17897ac9-8e80-45f8-b5dd-9e2a6b6e9e8d",
   "metadata": {},
   "outputs": [
    {
     "data": {
      "image/png": "[encoded data removed]",
      "text/plain": [
       "<Figure size 432x288 with 1 Axes>"
      ]
     },
     "metadata": {
      "needs_background": "light"
     },
     "output_type": "display_data"
    }
   ],
   "source": [
    "plt.figure()\n",
    "plt.plot(x, y, \"o\", color=\"k\", label=\"y\")\n",
    "plt.plot(x, yhat_ls,     linewidth=2, label='yhat_ls')\n",
    "plt.plot(x, yhat_lasso,  linewidth=2, label='yhat_lasso')\n",
    "plt.plot(x, yhat_ridge,  linewidth=2, label='yhat_ridge')\n",
    "plt.plot(x, yhat_elasNet,linewidth=2, label='yhat_elasNet')\n",
    "plt.legend()\n",
    "plt.show()"
   ]
  },
  {
   "cell_type": "markdown",
   "id": "0e0c4367-9661-4022-b1a1-79fa6f4c3a09",
   "metadata": {},
   "source": [
    "- Randomly pick any time point and corrupt the temperature measurement at that location"
   ]
  },
  {
   "cell_type": "code",
   "execution_count": 23,
   "id": "5472e749-af0c-4197-852c-6b7190124865",
   "metadata": {},
   "outputs": [],
   "source": [
    "np.random.seed(6397)"
   ]
  },
  {
   "cell_type": "code",
   "execution_count": 24,
   "id": "4c8c7cf8-61a9-4896-9bea-1e99c50cec83",
   "metadata": {},
   "outputs": [
    {
     "name": "stdout",
     "output_type": "stream",
     "text": [
      "0\n"
     ]
    }
   ],
   "source": [
    "id = np.random.choice(x-1)\n",
    "print(id)"
   ]
  },
  {
   "cell_type": "code",
   "execution_count": 25,
   "id": "391f2033-62e3-4345-b669-a7884270aeb7",
   "metadata": {},
   "outputs": [
    {
     "name": "stdout",
     "output_type": "stream",
     "text": [
      "[ 0. 77. 76. 73. 69. 68. 63. 59. 57. 55. 54. 52. 50. 50. 49. 49. 49. 50.\n",
      " 54. 56. 59. 63. 67. 72.]\n"
     ]
    }
   ],
   "source": [
    "y[id] = 0\n",
    "print(y)"
   ]
  },
  {
   "cell_type": "code",
   "execution_count": 26,
   "id": "5def38e8",
   "metadata": {},
   "outputs": [],
   "source": [
    "## 1) Least-square fit\n",
    "coef_ls = np.linalg.pinv( X_standardize ) @ y \n",
    "yhat_ls = X_standardize @ coef_ls\n",
    "\n",
    "\n",
    "## 2) LASSO\n",
    "lasso_reg = linear_model.Lasso(alpha=1, random_state=0, max_iter=10**8, tol=10**(-6))\n",
    "lasso_reg.fit(X_standardize[:,1:p], y)\n",
    "\n",
    "coef_lasso = lasso_reg.coef_\n",
    "inte_lasso = lasso_reg.intercept_\n",
    "\n",
    "coef_lasso = np.insert(coef_lasso, 0, inte_lasso)\n",
    "yhat_lasso = X_standardize @ coef_lasso\n",
    "\n",
    "\n",
    "## 3) Ridge\n",
    "ridge_reg = linear_model.Ridge(alpha=1, random_state=0, max_iter=10**8, tol=10**(-6))\n",
    "ridge_reg.fit(X_standardize[:,1:p], y)\n",
    "\n",
    "coef_ridge = ridge_reg.coef_\n",
    "inte_ridge = ridge_reg.intercept_\n",
    "\n",
    "coef_ridge = np.insert(coef_ridge, 0, inte_ridge)\n",
    "yhat_ridge = X_standardize @ coef_ridge\n",
    "\n",
    "\n",
    "## 4) Elastic net\n",
    "elasNet_reg = linear_model.ElasticNet(alpha=1, random_state=0, max_iter=10**8, tol=10**(-6))\n",
    "elasNet_reg.fit(X_standardize[:,1:p], y)\n",
    "\n",
    "coef_elasNet = elasNet_reg.coef_\n",
    "inte_elasNet = elasNet_reg.intercept_\n",
    "\n",
    "coef_elasNet = np.insert(coef_elasNet, 0, inte_elasNet)\n",
    "yhat_elasNet = X_standardize @ coef_elasNet"
   ]
  },
  {
   "cell_type": "code",
   "execution_count": 27,
   "id": "88180606-2612-4586-9331-497a714271b0",
   "metadata": {},
   "outputs": [
    {
     "data": {
      "image/png": "[encoded data removed]",
      "text/plain": [
       "<Figure size 432x288 with 1 Axes>"
      ]
     },
     "metadata": {
      "needs_background": "light"
     },
     "output_type": "display_data"
    }
   ],
   "source": [
    "plt.figure()\n",
    "plt.plot(x, y, \"o\", color=\"k\", label=\"y\")\n",
    "plt.plot(x, yhat_ls,     linewidth=2, label='yhat_ls')\n",
    "plt.plot(x, yhat_lasso,  linewidth=2, label='yhat_lasso')\n",
    "plt.plot(x, yhat_ridge,  linewidth=2, label='yhat_ridge')\n",
    "plt.plot(x, yhat_elasNet,linewidth=2, label='yhat_elasNet')\n",
    "plt.legend()\n",
    "plt.show()"
   ]
  },
  {
   "cell_type": "markdown",
   "id": "47e6c6ce-87d5-4bb0-b872-7eccdc572aa1",
   "metadata": {},
   "source": [
    "- Explicitly calculate the variance of the loading coefficients $\\alpha_k$ for each method for a number of random trials with one or more corrupt data points. "
   ]
  },
  {
   "cell_type": "code",
   "execution_count": 32,
   "id": "8506eb84-83af-422b-a690-70051697dd61",
   "metadata": {},
   "outputs": [],
   "source": [
    "E_ls = np.linalg.norm(np.subtract(y, yhat_ls))\n",
    "E_lasso = np.linalg.norm(np.subtract(y, yhat_lasso))\n",
    "E_ridge = np.linalg.norm(np.subtract(y, yhat_ridge))\n",
    "E_elasNet = np.linalg.norm(np.subtract(y, yhat_elasNet))"
   ]
  },
  {
   "cell_type": "code",
   "execution_count": 33,
   "id": "2fde2222-1d98-494f-8d2e-21631d8238cd",
   "metadata": {},
   "outputs": [
    {
     "name": "stdout",
     "output_type": "stream",
     "text": [
      "5.3557983372700715\n",
      "70.22970567680053\n",
      "67.81447259413048\n",
      "70.00201929754554\n"
     ]
    }
   ],
   "source": [
    "print(E_ls)\n",
    "print(E_lasso)\n",
    "print(E_ridge)\n",
    "print(E_elasNet)"
   ]
  },
  {
   "cell_type": "code",
   "execution_count": null,
   "id": "e6ec731c-6b50-4e00-9d7d-addf3926c7bf",
   "metadata": {},
   "outputs": [],
   "source": []
  },
  {
   "cell_type": "code",
   "execution_count": null,
   "id": "d1ed1ce5-440f-45bb-b6e7-89e38ad530c5",
   "metadata": {},
   "outputs": [],
   "source": []
  }
 ],
 "metadata": {
  "kernelspec": {
   "display_name": "M6397",
   "language": "python",
   "name": "m6397"
  },
  "language_info": {
   "codemirror_mode": {
    "name": "ipython",
    "version": 3
   },
   "file_extension": ".py",
   "mimetype": "text/x-python",
   "name": "python",
   "nbconvert_exporter": "python",
   "pygments_lexer": "ipython3",
   "version": "3.10.4"
  }
 },
 "nbformat": 4,
 "nbformat_minor": 5
}
