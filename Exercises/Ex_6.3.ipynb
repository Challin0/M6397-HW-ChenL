{
 "cells": [
  {
   "cell_type": "markdown",
   "id": "ed57fbd3",
   "metadata": {},
   "source": [
    "### Exercise 6.3\n",
    "\n",
    "Download the flow around the cylinder data. Using the first $P\\%$ of the temporal snapshots, forecast the remaining $(100-P)\\%$ future state data. Do this by training a neural network on the high-dimensional data."
   ]
  },
  {
   "cell_type": "markdown",
   "id": "4e3aa56c",
   "metadata": {},
   "source": [
    "(i) using a feedforward neural network.\n",
    "\n",
    "Determine the performance of the algorithms as a function of decreasing data $P$.\n",
    "\n",
    "Redo the forecasting calculations by training a model in the reduced subspace $U$ from the singular value decomposion. \n",
    "\n",
    "Evaluate the forecasting performance as a function of the percentage of the training data $P$ and the rank of the reduced space $r$."
   ]
  },
  {
   "cell_type": "code",
   "execution_count": 2,
   "id": "87a2114f",
   "metadata": {},
   "outputs": [],
   "source": [
    "import scipy.io  # io: imput and output\n",
    "import numpy as np\n",
    "import os\n",
    "\n",
    "import matplotlib.pyplot as plt\n",
    "import matplotlib.animation as animation\n",
    "from IPython import display"
   ]
  },
  {
   "cell_type": "code",
   "execution_count": 3,
   "id": "9ee0a40a",
   "metadata": {},
   "outputs": [],
   "source": [
    "# Load the data set for fluid past a cylinder\n",
    "mat_contents = scipy.io.loadmat(os.path.join('..','Data','CYLINDER_ALL.mat'))"
   ]
  },
  {
   "cell_type": "code",
   "execution_count": null,
   "id": "4df79058-c336-4679-ac9e-0dd54057f0df",
   "metadata": {},
   "outputs": [],
   "source": [
    "# mat_contents.keys()"
   ]
  },
  {
   "cell_type": "code",
   "execution_count": 4,
   "id": "effacb83-8873-44a1-8f2a-0ddd2f2c0089",
   "metadata": {},
   "outputs": [],
   "source": [
    "vortall = mat_contents['VORTALL']  # multiple vorticity field snapshots"
   ]
  },
  {
   "cell_type": "code",
   "execution_count": 5,
   "id": "56af0e7c-c30b-4d65-91e0-5c7922b5b27a",
   "metadata": {},
   "outputs": [
    {
     "data": {
      "text/plain": [
       "(89351, 151)"
      ]
     },
     "execution_count": 5,
     "metadata": {},
     "output_type": "execute_result"
    }
   ],
   "source": [
    "vortall.shape"
   ]
  },
  {
   "cell_type": "code",
   "execution_count": 6,
   "id": "ac1093ed-728c-4348-a3f8-a6f81c291324",
   "metadata": {},
   "outputs": [],
   "source": [
    "m = int(mat_contents['m'])\n",
    "n = int(mat_contents['n'])\n",
    "nt = vortall.shape[1]"
   ]
  },
  {
   "cell_type": "code",
   "execution_count": 7,
   "id": "dd83a9cb",
   "metadata": {},
   "outputs": [],
   "source": [
    "from numpy import array\n",
    "from keras.models import Sequential\n",
    "from keras.layers import Dense\n",
    "from numpy import hstack \n",
    "from sklearn.metrics import mean_squared_error"
   ]
  },
  {
   "cell_type": "code",
   "execution_count": 8,
   "id": "3b4297db",
   "metadata": {},
   "outputs": [],
   "source": [
    "def create_dataset(dataset, time_step=1):\n",
    "  data_X, data_Y = [], []\n",
    "  for i in range(dataset.shape[1]-time_step-1):\n",
    "    a = dataset[:, i:(i+time_step)]   \n",
    "    data_X.append(a)\n",
    "    data_Y.append(dataset[:, i+time_step])\n",
    "  return np.array(data_X), np.array(data_Y)"
   ]
  },
  {
   "cell_type": "code",
   "execution_count": 8,
   "id": "e33b2bee",
   "metadata": {},
   "outputs": [],
   "source": [
    "def ffnn_mse(data2d, p, time_step):\n",
    "    \n",
    "    last_index = int(nt*p)\n",
    "    train = data2d[:,:last_index]\n",
    "    test  = data2d[:,last_index:]\n",
    "    \n",
    "    X_train, y_train = create_dataset(train, time_step)\n",
    "    X_test,   y_test = create_dataset(test,  time_step)\n",
    "    \n",
    "    n_input  = X_train.shape[1]*X_train.shape[2]\n",
    "    n_output = y_train.shape[1]*1\n",
    "\n",
    "    X_train = X_train.reshape((X_train.shape[0], n_input))\n",
    "    X_test  =  X_test.reshape(( X_test.shape[0], n_input))\n",
    "\n",
    "    # define model\n",
    "    model = Sequential()\n",
    "    model.add(Dense(100, activation='relu', input_dim=n_input))\n",
    "    model.add(Dense(n_output))\n",
    "    model.compile(optimizer='adam', loss='mse',metrics=[\"accuracy\"])\n",
    "\n",
    "    # fit model\n",
    "    model.fit(X_train, y_train, epochs=100, verbose=0)\n",
    "    \n",
    "    # prediction\n",
    "    test_predict = model.predict(X_test)\n",
    "    test_predict.shape, y_test.shape\n",
    "    \n",
    "    mse = mean_squared_error(y_test, test_predict, squared = False) \n",
    "    \n",
    "    return mse"
   ]
  },
  {
   "cell_type": "code",
   "execution_count": 9,
   "id": "9dd3ca7f",
   "metadata": {},
   "outputs": [],
   "source": [
    "p = np.arange(0.1, 1, 0.1)\n",
    "time_step = 5"
   ]
  },
  {
   "cell_type": "code",
   "execution_count": 10,
   "id": "cf6f5692",
   "metadata": {},
   "outputs": [
    {
     "name": "stdout",
     "output_type": "stream",
     "text": [
      "5/5 [==============================] - 0s 23ms/step\n",
      "4/4 [==============================] - 0s 25ms/step\n",
      "4/4 [==============================] - 0s 22ms/step\n",
      "3/3 [==============================] - 0s 26ms/step\n",
      "3/3 [==============================] - 0s 24ms/step\n",
      "2/2 [==============================] - 0s 25ms/step\n",
      "WARNING:tensorflow:5 out of the last 13 calls to <function Model.make_predict_function.<locals>.predict_function at 0x00000175F76A3400> triggered tf.function retracing. Tracing is expensive and the excessive number of tracings could be due to (1) creating @tf.function repeatedly in a loop, (2) passing tensors with different shapes, (3) passing Python objects instead of tensors. For (1), please define your @tf.function outside of the loop. For (2), @tf.function has reduce_retracing=True option that can avoid unnecessary retracing. For (3), please refer to https://www.tensorflow.org/guide/function#controlling_retracing and https://www.tensorflow.org/api_docs/python/tf/function for  more details.\n",
      "2/2 [==============================] - 0s 17ms/step\n",
      "WARNING:tensorflow:5 out of the last 11 calls to <function Model.make_predict_function.<locals>.predict_function at 0x00000175F76A30A0> triggered tf.function retracing. Tracing is expensive and the excessive number of tracings could be due to (1) creating @tf.function repeatedly in a loop, (2) passing tensors with different shapes, (3) passing Python objects instead of tensors. For (1), please define your @tf.function outside of the loop. For (2), @tf.function has reduce_retracing=True option that can avoid unnecessary retracing. For (3), please refer to https://www.tensorflow.org/guide/function#controlling_retracing and https://www.tensorflow.org/api_docs/python/tf/function for  more details.\n",
      "1/1 [==============================] - 0s 61ms/step\n",
      "1/1 [==============================] - 0s 48ms/step\n"
     ]
    }
   ],
   "source": [
    "mse = []\n",
    "\n",
    "for i in range(len(p)):\n",
    "    mse.append( ffnn_mse(vortall, p[i], time_step) )"
   ]
  },
  {
   "cell_type": "code",
   "execution_count": 11,
   "id": "3e0ec5f2",
   "metadata": {},
   "outputs": [
    {
     "data": {
      "image/png": "[encoded data removed]",
      "text/plain": [
       "<Figure size 640x480 with 1 Axes>"
      ]
     },
     "metadata": {},
     "output_type": "display_data"
    }
   ],
   "source": [
    "plt.plot(p, mse)\n",
    "plt.show()"
   ]
  },
  {
   "cell_type": "code",
   "execution_count": null,
   "id": "eec470b5",
   "metadata": {},
   "outputs": [],
   "source": []
  },
  {
   "cell_type": "markdown",
   "id": "1e61d1d3",
   "metadata": {},
   "source": [
    "(iii) using an RNN. (bonus)"
   ]
  },
  {
   "cell_type": "code",
   "execution_count": 9,
   "id": "713e9286",
   "metadata": {},
   "outputs": [],
   "source": [
    "from keras.layers import SimpleRNN, Dense"
   ]
  },
  {
   "cell_type": "code",
   "execution_count": 10,
   "id": "b204d9be",
   "metadata": {},
   "outputs": [],
   "source": [
    "def rnn_mse(data2d, p, time_step):\n",
    "    \n",
    "    last_index = int(nt*p)\n",
    "    train = data2d[:,:last_index]\n",
    "    test  = data2d[:,last_index:]\n",
    "    \n",
    "    train = vortall[:,:last_index]\n",
    "    test  = vortall[:,last_index:]\n",
    "    \n",
    "    X_train, y_train = create_dataset(train, time_step)\n",
    "    X_test,   y_test = create_dataset(test,  time_step)\n",
    "\n",
    "    y_train = y_train.reshape(y_train.shape[0]*y_train.shape[1])\n",
    "    y_test  =  y_test.reshape( y_test.shape[0]* y_test.shape[1])\n",
    "\n",
    "    X_train = X_train.reshape((X_train.shape[0]*X_train.shape[1], X_train.shape[2], 1))\n",
    "    X_test  =  X_test.reshape(( X_test.shape[0]* X_test.shape[1],  X_test.shape[2], 1))\n",
    "\n",
    "    # define model\n",
    "    model = Sequential([SimpleRNN(20, return_sequences = True, input_shape = [None,1]),\n",
    "                        SimpleRNN(20, return_sequences = True),\n",
    "                        SimpleRNN(20),\n",
    "                        Dense(1)])\n",
    "    model.compile(loss = 'mean_squared_error', optimizer = 'adam')\n",
    "    \n",
    "    # fit model\n",
    "    model.fit(X_train, y_train, validation_data = (X_test, y_test), epochs=50, verbose=0)    \n",
    "    \n",
    "    # prediction\n",
    "    test_predict = model.predict(X_test)\n",
    "    mean_squared_error(y_test,test_predict, squared = False) \n",
    "    \n",
    "    return mse"
   ]
  },
  {
   "cell_type": "code",
   "execution_count": 11,
   "id": "ec69dd1c",
   "metadata": {},
   "outputs": [],
   "source": [
    "p = np.arange(0.1, 1, 0.1)\n",
    "time_step = 5"
   ]
  },
  {
   "cell_type": "code",
   "execution_count": null,
   "id": "af1c4497",
   "metadata": {},
   "outputs": [
    {
     "name": "stdout",
     "output_type": "stream",
     "text": [
      "362989/362989 [==============================] - 347s 955us/step\n"
     ]
    }
   ],
   "source": [
    "mse = []\n",
    "\n",
    "for i in range(len(p)):\n",
    "    mse.append( rnn_mse(vortall, p[i], time_step) )"
   ]
  },
  {
   "cell_type": "code",
   "execution_count": null,
   "id": "0de434e1",
   "metadata": {},
   "outputs": [],
   "source": [
    "plt.plot(p, mse)\n",
    "plt.show()"
   ]
  },
  {
   "cell_type": "code",
   "execution_count": null,
   "id": "c8b10959",
   "metadata": {},
   "outputs": [],
   "source": []
  }
 ],
 "metadata": {
  "kernelspec": {
   "display_name": "m6397",
   "language": "python",
   "name": "m6397"
  },
  "language_info": {
   "codemirror_mode": {
    "name": "ipython",
    "version": 3
   },
   "file_extension": ".py",
   "mimetype": "text/x-python",
   "name": "python",
   "nbconvert_exporter": "python",
   "pygments_lexer": "ipython3",
   "version": "3.10.6"
  }
 },
 "nbformat": 4,
 "nbformat_minor": 5
}
