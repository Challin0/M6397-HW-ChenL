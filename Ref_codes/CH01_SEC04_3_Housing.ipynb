{
 "cells": [
  {
   "cell_type": "code",
   "execution_count": 2,
   "metadata": {},
   "outputs": [],
   "source": [
    "import matplotlib.pyplot as plt\n",
    "import numpy as np\n",
    "import os\n",
    "plt.rcParams['figure.figsize'] = [16, 8]\n",
    "plt.rcParams.update({'font.size': 18})\n",
    "\n",
    "# Load dataset\n",
    "# H = np.loadtxt(os.path.join('..','DATA','housing.data'))\n",
    "H = np.loadtxt('/Users/Lingling/OneDrive - University Of Houston/Course_UH/22FA-M6397/M6397-HW-ChenL/Lec_codes/DATA/housing.data')\n",
    "b = H[:,-1] # housing values in $1000s\n",
    "A = H[:,:-1] # other factors\n"
   ]
  },
  {
   "cell_type": "code",
   "execution_count": 3,
   "metadata": {},
   "outputs": [],
   "source": [
    "# Pad with ones for nonzero offset\n",
    "A = np.pad(A,[(0,0),(0,1)],mode='constant',constant_values=1)\n"
   ]
  },
  {
   "cell_type": "code",
   "execution_count": null,
   "metadata": {},
   "outputs": [],
   "source": [
    "# Solve Ax=b using SVD\n",
    "# Note that the book uses the Matlab-specific \"regress\" command\n",
    "U, S, VT = np.linalg.svd(A,full_matrices=0)\n",
    "x = VT.T @ np.linalg.inv(np.diag(S)) @ U.T @ b"
   ]
  },
  {
   "cell_type": "code",
   "execution_count": null,
   "metadata": {},
   "outputs": [],
   "source": [
    "fig = plt.figure()\n",
    "ax1 = fig.add_subplot(121)\n",
    "\n",
    "plt.plot(b, color='k', linewidth=2, label='Housing Value') # True relationship\n",
    "plt.plot(A@x, '-o', color='r', linewidth=1.5, markersize=6, label='Regression')\n",
    "plt.xlabel('Neighborhood')\n",
    "plt.ylabel('Median Home Value [$1k]')\n",
    "plt.legend()\n",
    "\n",
    "ax2 = fig.add_subplot(122)\n",
    "sort_ind = np.argsort(H[:,-1])\n",
    "plt.plot(b[sort_ind], color='k', linewidth=2, label='Housing Value') # True relationship\n",
    "plt.plot(A[sort_ind,:]@x, '-o', color='r', linewidth=1.5, markersize=6, label='Regression')\n",
    "plt.xlabel('Neighborhood')\n",
    "plt.legend()\n",
    "\n",
    "plt.show()\n"
   ]
  },
  {
   "cell_type": "code",
   "execution_count": 5,
   "metadata": {},
   "outputs": [
    {
     "data": {
      "image/png": "[encoded data removed]",
      "text/plain": [
       "<Figure size 1152x576 with 1 Axes>"
      ]
     },
     "metadata": {
      "needs_background": "light"
     },
     "output_type": "display_data"
    }
   ],
   "source": [
    "A_mean = np.mean(A,axis=0)\n",
    "A_mean = A_mean.reshape(-1, 1)\n",
    "\n",
    "A2 = A - np.ones((A.shape[0],1)) @ A_mean.T\n",
    "\n",
    "for j in range(A.shape[1]-1):\n",
    "    A2std = np.std(A2[:,j])\n",
    "    A2[:,j] = A2[:,j]/A2std\n",
    "    \n",
    "A2[:,-1] = np.ones(A.shape[0])\n",
    "\n",
    "U, S, VT = np.linalg.svd(A2,full_matrices=0)\n",
    "x = VT.T @ np.linalg.inv(np.diag(S)) @ U.T @ b\n",
    "x_tick = range(len(x)-1)+np.ones(len(x)-1)\n",
    "plt.bar(x_tick,x[:-1])\n",
    "plt.xlabel('Attribute')\n",
    "plt.ylabel('Significance')\n",
    "plt.xticks(x_tick)\n",
    "plt.show()\n"
   ]
  },
  {
   "cell_type": "code",
   "execution_count": null,
   "metadata": {},
   "outputs": [],
   "source": []
  }
 ],
 "metadata": {
  "kernelspec": {
   "display_name": "Python 3 (ipykernel)",
   "language": "python",
   "name": "python3"
  },
  "language_info": {
   "codemirror_mode": {
    "name": "ipython",
    "version": 3
   },
   "file_extension": ".py",
   "mimetype": "text/x-python",
   "name": "python",
   "nbconvert_exporter": "python",
   "pygments_lexer": "ipython3",
   "version": "3.10.4"
  }
 },
 "nbformat": 4,
 "nbformat_minor": 4
}
