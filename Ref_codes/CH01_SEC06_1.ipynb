{
 "cells": [
  {
   "cell_type": "code",
   "execution_count": 1,
   "metadata": {},
   "outputs": [],
   "source": [
    "import matplotlib.pyplot as plt\n",
    "import numpy as np\n",
    "import os\n",
    "import scipy.io"
   ]
  },
  {
   "cell_type": "code",
   "execution_count": 2,
   "metadata": {},
   "outputs": [],
   "source": [
    "mat_contents = scipy.io.loadmat(os.path.join('..','DATA','allFaces.mat'))\n",
    "faces = mat_contents['faces']\n",
    "m = int(mat_contents['m'])\n",
    "n = int(mat_contents['n'])\n",
    "nfaces = np.ndarray.flatten(mat_contents['nfaces'])\n"
   ]
  },
  {
   "cell_type": "code",
   "execution_count": 18,
   "metadata": {},
   "outputs": [
    {
     "name": "stdout",
     "output_type": "stream",
     "text": [
      "<class 'dict'>\n",
      "<class 'numpy.ndarray'>\n",
      "<class 'numpy.ndarray'>\n",
      "168 192\n",
      "32256\n",
      "(32256, 2410)\n",
      "(38,)\n",
      "[64 62 64 64 62 64 64 64 64 64 60 59 60 63 62 63 63 64 64 64 64 64 64 64\n",
      " 64 64 64 64 64 64 64 64 64 64 64 64 64 64]\n",
      "2410\n"
     ]
    },
    {
     "data": {
      "text/plain": [
       "array([[ 80,  94,  59,  16,  69,  53, 106,  94, 119,  90],\n",
       "       [ 81,  87,  67,  14,  67,  52, 102,  92, 118,  90],\n",
       "       [ 80,  88,  66,  14,  67,  52,  99,  90, 113,  90],\n",
       "       [ 79,  87,  74,  15,  69,  50, 100,  91, 114,  90],\n",
       "       [ 80,  88,  75,  15,  67,  53, 104,  95, 119,  90],\n",
       "       [ 82,  86,  76,  15,  70,  53, 101,  94, 118,  90],\n",
       "       [ 79,  93,  85,  15,  72,  57, 106,  98, 124,  92],\n",
       "       [ 80,  92,  91,  17,  70,  54, 107,  98, 123,  91],\n",
       "       [ 83,  90,  92,  16,  68,  52, 103,  94, 119,  94],\n",
       "       [ 82,  89,  92,  15,  68,  52, 101,  93, 118,  93]], dtype=uint8)"
      ]
     },
     "execution_count": 18,
     "metadata": {},
     "output_type": "execute_result"
    }
   ],
   "source": [
    "print(type(mat_contents))\n",
    "print(type(faces))\n",
    "print(type(nfaces))\n",
    "print(m,n)          # 168, 192: size of each image\n",
    "print(m*n)          # 168 times 192 = 32256\n",
    "print(faces.shape)  # 32256 by 2410 matrix (each column is reshaped from a 168 by 192 image)\n",
    "print(nfaces.shape) # 38 people\n",
    "print(nfaces)       # number of images for each person\n",
    "print(sum(nfaces))  # 2410 images in total for 38 person \n",
    "faces[:10,:10]"
   ]
  },
  {
   "cell_type": "code",
   "execution_count": null,
   "metadata": {},
   "outputs": [],
   "source": [
    "allPersons = np.zeros((n*6,m*6))\n",
    "count = 0\n",
    "\n",
    "for j in range(6):\n",
    "    for k in range(6):\n",
    "        allPersons[j*n : (j+1)*n, k*m : (k+1)*m] = np.reshape(faces[:,np.sum(nfaces[:count])],(m,n)).T\n",
    "        count += 1"
   ]
  },
  {
   "cell_type": "code",
   "execution_count": null,
   "metadata": {},
   "outputs": [],
   "source": [
    "plt.rcParams['figure.figsize'] = [10, 10]\n",
    "plt.rcParams.update({'font.size': 18})\n",
    "\n",
    "img = plt.imshow(allPersons)\n",
    "img.set_cmap('gray')\n",
    "plt.axis('off')\n",
    "plt.show()"
   ]
  },
  {
   "cell_type": "code",
   "execution_count": null,
   "metadata": {},
   "outputs": [],
   "source": [
    "for person in range(len(nfaces)):\n",
    "    subset = faces[:,sum(nfaces[:person]) : sum(nfaces[:(person+1)])]\n",
    "    allFaces = np.zeros((n*8,m*8))\n",
    "    \n",
    "    count = 0\n",
    "    \n",
    "    for j in range(8):\n",
    "        for k in range(8):\n",
    "            if count < nfaces[person]:\n",
    "                allFaces[j*n:(j+1)*n,k*m:(k+1)*m] = np.reshape(subset[:,count],(m,n)).T\n",
    "                count += 1\n",
    "                \n",
    "    img = plt.imshow(allFaces)\n",
    "    img.set_cmap('gray')\n",
    "    plt.axis('off')\n",
    "    plt.show()"
   ]
  }
 ],
 "metadata": {
  "kernelspec": {
   "display_name": "Python 3 (ipykernel)",
   "language": "python",
   "name": "python3"
  },
  "language_info": {
   "codemirror_mode": {
    "name": "ipython",
    "version": 3
   },
   "file_extension": ".py",
   "mimetype": "text/x-python",
   "name": "python",
   "nbconvert_exporter": "python",
   "pygments_lexer": "ipython3",
   "version": "3.10.4"
  }
 },
 "nbformat": 4,
 "nbformat_minor": 2
}
